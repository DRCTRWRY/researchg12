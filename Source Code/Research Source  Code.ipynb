{
 "cells": [
  {
   "cell_type": "markdown",
   "id": "ea01eaca-8829-40f8-8437-76b5f654e25a",
   "metadata": {},
   "source": [
    "# Applied Codes in Research"
   ]
  },
  {
   "cell_type": "code",
   "execution_count": 1,
   "id": "8787faf7-acda-41fa-94e9-671a55625d90",
   "metadata": {},
   "outputs": [],
   "source": [
    "# Importing necessary libraries\n",
    "import numpy as np\n",
    "import pandas as pd\n",
    "import matplotlib.pyplot as plt\n",
    "import matplotlib as mpl\n",
    "\n",
    "# setting theme\n",
    "import seaborn as sns\n",
    "sns.set()"
   ]
  },
  {
   "cell_type": "code",
   "execution_count": 2,
   "id": "9763050f-0205-43e7-8cf4-46adee4194bc",
   "metadata": {},
   "outputs": [],
   "source": [
    "# loading the gathered cleaned data\n",
    "data = data = pd.read_csv('Data/data.csv')"
   ]
  },
  {
   "cell_type": "markdown",
   "id": "9681936c-badb-48ce-af8f-1f8a5d3cfd84",
   "metadata": {
    "tags": []
   },
   "source": [
    "### Note  \n",
    "#### The following column name meanings are listed below\n",
    "<p>\n",
    "    sex - sex of the respondents  <br>\n",
    "    age - age of the respondents  <br>\n",
    "    strand - the strand of the respondents in senior high  <br>\n",
    "    fav_sns - favorite social media site or network of the resopndents  <br>\n",
    "    n_sns - average number of hours spend in social media per day  <br>\n",
    "    n_stud - average number of hours spend in studying per day  <br>\n",
    "    gpa_1 - general average of the respondents from 1st grading  <br>\n",
    "    gpa_2 - general average of the resopndents from 2st grading  <br>\n",
    "    gpa_mean - the mean gpa of the respondents  <br>\n",
    "    rate_1 - rate of how hard was the 1st semester of the respondents  <br>\n",
    "    sns_use - Why do the respondents use social media  <br>\n",
    "    int_acc - if the repsondents have unlimited internet access  <br>\n",
    "<br>\n",
    "<b>Perception of respondents in social media</b>  <br>\n",
    "    p_mean - the mean perception of the students on social media  <br>\n",
    "    p1 - it is efficient to use  <br>\n",
    "    p2 - it gives me entertainment  <br>\n",
    "    p3 - There are many driven communities that are able to share ideas and media.  <br>\n",
    "    p4 - it gives me privacy  <br>\n",
    "    p5 - it is user friendly  <br>\n",
    "    p6 - it is easy to navigate  <br>\n",
    "</p>"
   ]
  },
  {
   "cell_type": "markdown",
   "id": "6d4860f1-d5c5-46a9-8286-1e90459c8fb1",
   "metadata": {},
   "source": [
    "## Commmon social media sites that are used by the students for learning purposes"
   ]
  },
  {
   "cell_type": "code",
   "execution_count": 3,
   "id": "db1d722b-686f-4c9e-a295-820602de5bc3",
   "metadata": {},
   "outputs": [
    {
     "data": {
      "image/png": "[encoded data removed]",
      "text/plain": [
       "<Figure size 504x288 with 1 Axes>"
      ]
     },
     "metadata": {},
     "output_type": "display_data"
    },
    {
     "data": {
      "text/plain": [
       "<Figure size 432x288 with 0 Axes>"
      ]
     },
     "metadata": {},
     "output_type": "display_data"
    }
   ],
   "source": [
    "df = data[data[\"sns_use\"] == \"For school purposes (group files and other document)\"]\n",
    "\n",
    "# figure size\n",
    "fig = plt.figure(figsize=(7, 4))\n",
    "\n",
    "# using horizontal barplot (barh)\n",
    "ax = df[\"fav_sns\"].value_counts().plot(kind=\"barh\", color='black')\n",
    "\n",
    "# figure customization\n",
    "plt.legend([\"Favorite social media site\"])\n",
    "\n",
    "# save figure\n",
    "plt.savefig('plots/plot1.png')\n",
    "\n",
    "# show figure\n",
    "plt.show()\n",
    "\n",
    "# clear figure memory\n",
    "plt.clf()"
   ]
  },
  {
   "cell_type": "markdown",
   "id": "1ddad2fa-e628-41d1-abe0-c46b23e16cb6",
   "metadata": {},
   "source": [
    "## Perception of the Students to Social Media?"
   ]
  },
  {
   "cell_type": "markdown",
   "id": "03a6bd8a-c206-40ac-9eed-ae0b1cb0dc10",
   "metadata": {},
   "source": [
    "### General Description of Perception of the Students"
   ]
  },
  {
   "cell_type": "code",
   "execution_count": 4,
   "id": "ee674284-b93d-4e6b-805a-f6b8656a0e81",
   "metadata": {},
   "outputs": [
    {
     "data": {
      "text/html": [
       "<div>\n",
       "<style scoped>\n",
       "    .dataframe tbody tr th:only-of-type {\n",
       "        vertical-align: middle;\n",
       "    }\n",
       "\n",
       "    .dataframe tbody tr th {\n",
       "        vertical-align: top;\n",
       "    }\n",
       "\n",
       "    .dataframe thead th {\n",
       "        text-align: right;\n",
       "    }\n",
       "</style>\n",
       "<table border=\"1\" class=\"dataframe\">\n",
       "  <thead>\n",
       "    <tr style=\"text-align: right;\">\n",
       "      <th></th>\n",
       "      <th>Efficiency</th>\n",
       "      <th>Entertainment</th>\n",
       "      <th>Community</th>\n",
       "      <th>Privacy</th>\n",
       "      <th>User Friendliness</th>\n",
       "      <th>Navigability</th>\n",
       "      <th>Mean</th>\n",
       "    </tr>\n",
       "  </thead>\n",
       "  <tbody>\n",
       "    <tr>\n",
       "      <th>mean</th>\n",
       "      <td>8.07</td>\n",
       "      <td>9.0</td>\n",
       "      <td>8.48</td>\n",
       "      <td>6.93</td>\n",
       "      <td>7.84</td>\n",
       "      <td>8.05</td>\n",
       "      <td>8.06</td>\n",
       "    </tr>\n",
       "  </tbody>\n",
       "</table>\n",
       "</div>"
      ],
      "text/plain": [
       "      Efficiency  Entertainment  Community  Privacy  User Friendliness  \\\n",
       "mean        8.07            9.0       8.48     6.93               7.84   \n",
       "\n",
       "      Navigability  Mean  \n",
       "mean          8.05  8.06  "
      ]
     },
     "execution_count": 4,
     "metadata": {},
     "output_type": "execute_result"
    }
   ],
   "source": [
    "df = data.loc[:, 'p1':'p6']\n",
    "df.columns = [\"Efficiency\", \n",
    "              \"Entertainment\",\n",
    "              \"Community\", \n",
    "              \"Privacy\", \n",
    "              \"User Friendliness\", \n",
    "              \"Navigability\"]\n",
    "df = pd.DataFrame(df.describe())\n",
    "df = df.drop(['count', 'std', 'min', 'max', '25%', '50%', '75%'])\n",
    "df['Mean'] = data['p_mean'].mean()\n",
    "df = df.round(2)\n",
    "df.to_csv('data/p_mean.csv')\n",
    "df"
   ]
  },
  {
   "cell_type": "markdown",
   "id": "b78c209f-b54f-408b-9e89-2acd6a63c354",
   "metadata": {},
   "source": [
    "### Relation of the Perceptions of the students to their favorite social media site"
   ]
  },
  {
   "cell_type": "code",
   "execution_count": 5,
   "id": "e6a38119-42d1-4628-aea4-362d51e3728f",
   "metadata": {},
   "outputs": [
    {
     "data": {
      "image/png": "[encoded data removed]",
      "text/plain": [
       "<Figure size 504x288 with 2 Axes>"
      ]
     },
     "metadata": {},
     "output_type": "display_data"
    },
    {
     "data": {
      "text/plain": [
       "<Figure size 432x288 with 0 Axes>"
      ]
     },
     "metadata": {},
     "output_type": "display_data"
    }
   ],
   "source": [
    "df = data.loc[:, 'p1':'p6']\n",
    "df.columns = [\"Efficiency\", \n",
    "              \"Entertainment\", \n",
    "              \"Community\", \n",
    "              \"Privacy\", \n",
    "              \"User Friendliness\", \n",
    "              \"Navigability\"]\n",
    "\n",
    "# figure size\n",
    "fig = plt.figure(figsize=(7, 4))\n",
    "\n",
    "# figure customization\n",
    "plt.xticks(rotation='60')\n",
    "\n",
    "# using horizontal barplot (barh)\n",
    "ax = sns.heatmap(df.corr(), annot=True)\n",
    "\n",
    "# save figure\n",
    "plt.savefig('plots/plot2.png', bbox_inches = 'tight')\n",
    "\n",
    "# show figure\n",
    "plt.show()\n",
    "\n",
    "# clear figure memory\n",
    "plt.clf()"
   ]
  },
  {
   "cell_type": "markdown",
   "id": "7239d4bf-93aa-4e86-be1e-ac5f08e8b963",
   "metadata": {},
   "source": [
    "## Perceived effects of social media to the students academic performance"
   ]
  },
  {
   "cell_type": "code",
   "execution_count": 6,
   "id": "a8533139-d756-4665-9981-fd3b80d6c47d",
   "metadata": {},
   "outputs": [
    {
     "data": {
      "text/plain": [
       "<Figure size 720x360 with 0 Axes>"
      ]
     },
     "metadata": {},
     "output_type": "display_data"
    },
    {
     "data": {
      "image/png": "[encoded data removed]",
      "text/plain": [
       "<Figure size 432x288 with 1 Axes>"
      ]
     },
     "metadata": {},
     "output_type": "display_data"
    },
    {
     "data": {
      "text/plain": [
       "<Figure size 432x288 with 0 Axes>"
      ]
     },
     "metadata": {},
     "output_type": "display_data"
    }
   ],
   "source": [
    "df = data.loc[:, ['gpa_mean', 'p_mean']]\n",
    "\n",
    "fig = plt.figure(figsize=(10,5))\n",
    "\n",
    "# scatter plot\n",
    "ax = df[[\"gpa_mean\", \"p_mean\"]].plot(kind='scatter', \n",
    "                                     x='gpa_mean',\n",
    "                                     y=\"p_mean\", \n",
    "                                     color=\"black\")\n",
    "\n",
    "# line estimation\n",
    "m, b = np.polyfit(df[\"gpa_mean\"], df[\"p_mean\"], 1)\n",
    "ax.plot(df[\"gpa_mean\"], m*df[\"gpa_mean\"] + b, color='red')\n",
    "\n",
    "# figure customization\n",
    "plt.xlabel(\"GPA_mean\")\n",
    "plt.ylabel(\"Mean Perception\")\n",
    "plt.title(\"Pearson Correlation where r = 0.19\")\n",
    "\n",
    "# save figure\n",
    "plt.savefig('plots/plot3.png', bbox_inches = 'tight')\n",
    "\n",
    "\n",
    "plt.show()\n",
    "plt.clf()"
   ]
  },
  {
   "cell_type": "markdown",
   "id": "ac2ebcdc-22ce-4b84-a238-92c7adf97fb6",
   "metadata": {},
   "source": [
    "# Academic performance of the grade 12 students or their 1st and 2nd quarter"
   ]
  },
  {
   "cell_type": "code",
   "execution_count": 7,
   "id": "41fd1c15-f276-462b-bba7-b8d9056ed698",
   "metadata": {},
   "outputs": [
    {
     "data": {
      "text/html": [
       "<div>\n",
       "<style scoped>\n",
       "    .dataframe tbody tr th:only-of-type {\n",
       "        vertical-align: middle;\n",
       "    }\n",
       "\n",
       "    .dataframe tbody tr th {\n",
       "        vertical-align: top;\n",
       "    }\n",
       "\n",
       "    .dataframe thead th {\n",
       "        text-align: right;\n",
       "    }\n",
       "</style>\n",
       "<table border=\"1\" class=\"dataframe\">\n",
       "  <thead>\n",
       "    <tr style=\"text-align: right;\">\n",
       "      <th></th>\n",
       "      <th>gpa_1</th>\n",
       "      <th>gpa_2</th>\n",
       "      <th>gpa_mean</th>\n",
       "      <th>rate_1</th>\n",
       "    </tr>\n",
       "  </thead>\n",
       "  <tbody>\n",
       "    <tr>\n",
       "      <th>mean</th>\n",
       "      <td>91.45</td>\n",
       "      <td>93.03</td>\n",
       "      <td>92.24</td>\n",
       "      <td>7.43</td>\n",
       "    </tr>\n",
       "  </tbody>\n",
       "</table>\n",
       "</div>"
      ],
      "text/plain": [
       "      gpa_1  gpa_2  gpa_mean  rate_1\n",
       "mean  91.45  93.03     92.24    7.43"
      ]
     },
     "execution_count": 7,
     "metadata": {},
     "output_type": "execute_result"
    }
   ],
   "source": [
    "df = data.loc[:, ['gpa_1','gpa_2','gpa_mean', 'rate_1']]\n",
    "df = df.describe()\n",
    "df = df.drop(['count', 'std', 'min', 'max', '25%', '50%', '75%'])\n",
    "df = df.round(2)\n",
    "df.to_csv('data/data3.csv')\n",
    "df"
   ]
  },
  {
   "cell_type": "markdown",
   "id": "1b587448-a805-4938-89ea-312396cd3f64",
   "metadata": {},
   "source": [
    "## Is there a significant relationship between social media and the academic performance of the students"
   ]
  },
  {
   "cell_type": "code",
   "execution_count": 8,
   "id": "9ab49e32-4f27-4836-a413-ec153387ce9c",
   "metadata": {},
   "outputs": [
    {
     "data": {
      "text/plain": [
       "<Figure size 720x576 with 0 Axes>"
      ]
     },
     "metadata": {},
     "output_type": "display_data"
    },
    {
     "data": {
      "image/png": "[encoded data removed]",
      "text/plain": [
       "<Figure size 432x288 with 1 Axes>"
      ]
     },
     "metadata": {},
     "output_type": "display_data"
    },
    {
     "data": {
      "text/plain": [
       "<Figure size 432x288 with 0 Axes>"
      ]
     },
     "metadata": {},
     "output_type": "display_data"
    }
   ],
   "source": [
    "df = data.loc[:, ['gpa_mean', 'n_sns']]\n",
    "\n",
    "fig = plt.figure(figsize=(10,8))\n",
    "\n",
    "# scatter plot\n",
    "ax = df[[\"gpa_mean\", \"n_sns\"]].plot(kind='scatter', \n",
    "                                    x='gpa_mean', \n",
    "                                    y=\"n_sns\", \n",
    "                                    color=\"black\")\n",
    "\n",
    "# line estimation\n",
    "m, b = np.polyfit(df[\"gpa_mean\"], df[\"n_sns\"], 1)\n",
    "ax.plot(df[\"gpa_mean\"], m*df[\"gpa_mean\"] + b, color='red')\n",
    "\n",
    "# figure customization\n",
    "plt.xlabel(\"GPA_mean\")\n",
    "plt.ylabel(\"Number of hours spent on social media per day\")\n",
    "plt.title(\"Pearson Correlation where r = -0.06\")\n",
    "\n",
    "# save figure\n",
    "plt.savefig('plots/plot4.png', bbox_inches = 'tight')\n",
    "\n",
    "\n",
    "plt.show()\n",
    "plt.clf()"
   ]
  },
  {
   "cell_type": "code",
   "execution_count": 9,
   "id": "35ed793c-d9ae-471f-985b-d35e898c06fb",
   "metadata": {},
   "outputs": [
    {
     "data": {
      "text/html": [
       "<div>\n",
       "<style scoped>\n",
       "    .dataframe tbody tr th:only-of-type {\n",
       "        vertical-align: middle;\n",
       "    }\n",
       "\n",
       "    .dataframe tbody tr th {\n",
       "        vertical-align: top;\n",
       "    }\n",
       "\n",
       "    .dataframe thead th {\n",
       "        text-align: right;\n",
       "    }\n",
       "</style>\n",
       "<table border=\"1\" class=\"dataframe\">\n",
       "  <thead>\n",
       "    <tr style=\"text-align: right;\">\n",
       "      <th></th>\n",
       "      <th>gpa_mean</th>\n",
       "      <th>n_sns</th>\n",
       "    </tr>\n",
       "  </thead>\n",
       "  <tbody>\n",
       "    <tr>\n",
       "      <th>gpa_mean</th>\n",
       "      <td>1.000000</td>\n",
       "      <td>-0.061738</td>\n",
       "    </tr>\n",
       "    <tr>\n",
       "      <th>n_sns</th>\n",
       "      <td>-0.061738</td>\n",
       "      <td>1.000000</td>\n",
       "    </tr>\n",
       "  </tbody>\n",
       "</table>\n",
       "</div>"
      ],
      "text/plain": [
       "          gpa_mean     n_sns\n",
       "gpa_mean  1.000000 -0.061738\n",
       "n_sns    -0.061738  1.000000"
      ]
     },
     "execution_count": 9,
     "metadata": {},
     "output_type": "execute_result"
    }
   ],
   "source": [
    "df.corr()"
   ]
  }
 ],
 "metadata": {
  "kernelspec": {
   "display_name": "Python 3 (ipykernel)",
   "language": "python",
   "name": "python3"
  },
  "language_info": {
   "codemirror_mode": {
    "name": "ipython",
    "version": 3
   },
   "file_extension": ".py",
   "mimetype": "text/x-python",
   "name": "python",
   "nbconvert_exporter": "python",
   "pygments_lexer": "ipython3",
   "version": "3.10.2"
  }
 },
 "nbformat": 4,
 "nbformat_minor": 5
}
